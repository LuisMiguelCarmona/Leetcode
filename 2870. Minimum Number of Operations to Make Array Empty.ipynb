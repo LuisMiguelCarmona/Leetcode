{
 "cells": [
  {
   "cell_type": "markdown",
   "metadata": {},
   "source": [
    "# 2870. Minimum Number of Operations to Make Array Empty\n",
    "### Dificulty: Medium\n",
    "\n",
    "You are given a 0-indexed array nums consisting of positive integers.\n",
    "\n",
    "There are two types of operations that you can apply on the array any number of times:\n",
    "\n",
    "Choose two elements with equal values and delete them from the array.\n",
    "Choose three elements with equal values and delete them from the array.\n",
    "Return the minimum number of operations required to make the array empty, or -1 if it is not possible.\n",
    "\n",
    " "
   ]
  },
  {
   "cell_type": "markdown",
   "metadata": {},
   "source": [
    "Example 1:\n",
    "\n",
    "Input: nums = [2,3,3,2,2,4,2,3,4]\n",
    "\n",
    "Output: 4\n",
    "\n",
    "Example 2:\n",
    "\n",
    "Input: nums = [2,1,2,2,3,3]\n",
    "\n",
    "Output: -1\n"
   ]
  },
  {
   "cell_type": "code",
   "execution_count": 1,
   "metadata": {},
   "outputs": [],
   "source": [
    "from collections import Counter\n",
    "\n",
    "class Solution:\n",
    "    def minOperations(nums):\n",
    "        def func(i):\n",
    "            if i%3 == 0:\n",
    "                return i//3\n",
    "            elif i%3 == 1:\n",
    "                return func(i-2) + 1\n",
    "            else:\n",
    "                return i//3+ (i%3)//2\n",
    "        \n",
    "        step = 0\n",
    "        counter = Counter(nums)\n",
    "        for i in counter.values():\n",
    "            if i == 1:\n",
    "                return -1\n",
    "            step += func(i)\n",
    "        return step"
   ]
  },
  {
   "cell_type": "markdown",
   "metadata": {},
   "source": [
    "## Examples:"
   ]
  },
  {
   "cell_type": "code",
   "execution_count": 2,
   "metadata": {},
   "outputs": [
    {
     "data": {
      "text/plain": [
       "4"
      ]
     },
     "execution_count": 2,
     "metadata": {},
     "output_type": "execute_result"
    }
   ],
   "source": [
    "nums = [2,3,3,2,2,4,2,3,4]\n",
    "\n",
    "Solution.minOperations(nums)"
   ]
  },
  {
   "cell_type": "code",
   "execution_count": 3,
   "metadata": {},
   "outputs": [
    {
     "data": {
      "text/plain": [
       "-1"
      ]
     },
     "execution_count": 3,
     "metadata": {},
     "output_type": "execute_result"
    }
   ],
   "source": [
    "nums = [2,1,2,2,3,3]\n",
    "\n",
    "Solution.minOperations(nums)"
   ]
  },
  {
   "cell_type": "markdown",
   "metadata": {},
   "source": [
    "##  Code performance"
   ]
  },
  {
   "cell_type": "markdown",
   "metadata": {},
   "source": [
    "<img src=\"Performance/2870-Performance.png\" alt=\"Performance\" width=\"400\" height=\"200\">\n"
   ]
  }
 ],
 "metadata": {
  "kernelspec": {
   "display_name": "Python 3",
   "language": "python",
   "name": "python3"
  },
  "language_info": {
   "codemirror_mode": {
    "name": "ipython",
    "version": 3
   },
   "file_extension": ".py",
   "mimetype": "text/x-python",
   "name": "python",
   "nbconvert_exporter": "python",
   "pygments_lexer": "ipython3",
   "version": "3.8.5"
  }
 },
 "nbformat": 4,
 "nbformat_minor": 4
}
