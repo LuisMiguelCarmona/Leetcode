{
 "cells": [
  {
   "cell_type": "markdown",
   "metadata": {},
   "source": [
    "# 2610. Convert an Array Into a 2D Array With Conditions\n",
    "### Difficulty: Medium\n",
    "\n",
    "You are given an integer array nums. You need to create a 2D array from nums satisfying the following conditions:\n",
    "\n",
    "The 2D array should contain only the elements of the array nums.\n",
    "Each row in the 2D array contains distinct integers.\n",
    "The number of rows in the 2D array should be minimal.\n",
    "Return the resulting array. If there are multiple answers, return any of them.\n",
    "\n",
    "Note that the 2D array can have a different number of elements on each row."
   ]
  },
  {
   "cell_type": "markdown",
   "metadata": {},
   "source": [
    "Example 1:\n",
    "\n",
    "Input: nums = [1,3,4,1,2,3,1]\n",
    "\n",
    "Output: [[1,3,4,2],[1,3],[1]]\n",
    "\n",
    " \n",
    " \n",
    " \n",
    " \n",
    "Example 2:\n",
    "\n",
    "Input: nums = [1,2,3,4]\n",
    "\n",
    "Output: [[4,3,2,1]]\n"
   ]
  },
  {
   "cell_type": "code",
   "execution_count": 1,
   "metadata": {},
   "outputs": [],
   "source": [
    "class Solution:\n",
    "    def findMatrix(nums):\n",
    "        lista = [[]]\n",
    "\n",
    "        for num in nums:\n",
    "            ok = False\n",
    "            for spot in lista:\n",
    "                if num  in spot:\n",
    "                    continue\n",
    "                else:\n",
    "                    ok = True\n",
    "                    spot.append(num)\n",
    "                    break\n",
    "            if ok == False:\n",
    "                lista.append([num])\n",
    "        return lista"
   ]
  },
  {
   "cell_type": "markdown",
   "metadata": {},
   "source": [
    "## Examples:"
   ]
  },
  {
   "cell_type": "code",
   "execution_count": 2,
   "metadata": {},
   "outputs": [
    {
     "data": {
      "text/plain": [
       "[[2, 1], [1]]"
      ]
     },
     "execution_count": 2,
     "metadata": {},
     "output_type": "execute_result"
    }
   ],
   "source": [
    "nums = [2,1,1]\n",
    "\n",
    "Solution.findMatrix(nums)"
   ]
  },
  {
   "cell_type": "code",
   "execution_count": 3,
   "metadata": {},
   "outputs": [
    {
     "data": {
      "text/plain": [
       "[[1, 3, 4, 2], [1, 3], [1]]"
      ]
     },
     "execution_count": 3,
     "metadata": {},
     "output_type": "execute_result"
    }
   ],
   "source": [
    "nums = [1,3,4,1,2,3,1]\n",
    "\n",
    "Solution.findMatrix(nums)"
   ]
  },
  {
   "cell_type": "markdown",
   "metadata": {},
   "source": [
    "## Performance of the code"
   ]
  },
  {
   "cell_type": "markdown",
   "metadata": {},
   "source": [
    "<img src=\"http://34.88.174.138/2610-Performance.png\" alt=\"Performance\" width=\"400\" height=\"200\">\n"
   ]
  }
 ],
 "metadata": {
  "kernelspec": {
   "display_name": "Python 3",
   "language": "python",
   "name": "python3"
  },
  "language_info": {
   "codemirror_mode": {
    "name": "ipython",
    "version": 3
   },
   "file_extension": ".py",
   "mimetype": "text/x-python",
   "name": "python",
   "nbconvert_exporter": "python",
   "pygments_lexer": "ipython3",
   "version": "3.8.5"
  }
 },
 "nbformat": 4,
 "nbformat_minor": 4
}
