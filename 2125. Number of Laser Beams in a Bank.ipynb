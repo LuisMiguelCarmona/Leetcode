{
 "cells": [
  {
   "cell_type": "markdown",
   "metadata": {},
   "source": [
    "# 2125. Number of Laser Beams in a Bank\n",
    "### Dificulty: Medium\n",
    "Anti-theft security devices are activated inside a bank. You are given a 0-indexed binary string array bank representing the floor plan of the bank, which is an m x n 2D matrix. bank[i] represents the ith row, consisting of '0's and '1's. '0' means the cell is empty, while'1' means the cell has a security device.\n",
    "\n",
    "There is one laser beam between any two security devices if both conditions are met:\n",
    "\n",
    "The two devices are located on two different rows: r1 and r2, where r1 < r2.\n",
    "For each row i where r1 < i < r2, there are no security devices in the ith row.\n",
    "Laser beams are independent, i.e., one beam does not interfere nor join with another.\n",
    "\n",
    "Return the total number of laser beams in the bank.\n",
    "\n",
    " "
   ]
  },
  {
   "cell_type": "markdown",
   "metadata": {},
   "source": [
    "Example 1:\n",
    "\n",
    "\n",
    "Input: bank = [\"011001\",\"000000\",\"010100\",\"001000\"]\n",
    "\n",
    "Output: 8\n",
    "\n",
    "\n",
    "Example 2:\n",
    "\n",
    "\n",
    "Input: bank = [\"000\",\"111\",\"000\"]\n",
    "\n",
    "Output: 0\n"
   ]
  },
  {
   "cell_type": "code",
   "execution_count": 1,
   "metadata": {},
   "outputs": [],
   "source": [
    "class Solution:\n",
    "    def numberOfBeams(bank):\n",
    "        device_count_per_row = [row.count('1') for row in bank]\n",
    "\n",
    "        total_beams = 0\n",
    "\n",
    "        for i in range(len(device_count_per_row) - 1):\n",
    "            if device_count_per_row[i] > 0:\n",
    "                for j in range(i + 1, len(device_count_per_row)):\n",
    "                    if device_count_per_row[j] > 0:\n",
    "                        total_beams += device_count_per_row[i] * device_count_per_row[j]\n",
    "                        break\n",
    "        return total_beams"
   ]
  },
  {
   "cell_type": "markdown",
   "metadata": {},
   "source": [
    "## Examples:"
   ]
  },
  {
   "cell_type": "code",
   "execution_count": 2,
   "metadata": {
    "scrolled": true
   },
   "outputs": [
    {
     "data": {
      "text/plain": [
       "8"
      ]
     },
     "execution_count": 2,
     "metadata": {},
     "output_type": "execute_result"
    }
   ],
   "source": [
    "bank = [\"011001\",\"000000\",\"010100\",\"001000\"]\n",
    "\n",
    "Solution.numberOfBeams(bank)"
   ]
  },
  {
   "cell_type": "code",
   "execution_count": 3,
   "metadata": {},
   "outputs": [
    {
     "data": {
      "text/plain": [
       "0"
      ]
     },
     "execution_count": 3,
     "metadata": {},
     "output_type": "execute_result"
    }
   ],
   "source": [
    "bank = [\"000\",\"111\",\"000\"]\n",
    "\n",
    "Solution.numberOfBeams(bank)"
   ]
  },
  {
   "cell_type": "markdown",
   "metadata": {},
   "source": [
    "## Performance of the code"
   ]
  },
  {
   "cell_type": "markdown",
   "metadata": {},
   "source": [
    "<img src=\"Performance/2125-Performance.png\" alt=\"Performance\" width=\"400\" height=\"200\">\n"
   ]
  }
 ],
 "metadata": {
  "kernelspec": {
   "display_name": "Python 3",
   "language": "python",
   "name": "python3"
  },
  "language_info": {
   "codemirror_mode": {
    "name": "ipython",
    "version": 3
   },
   "file_extension": ".py",
   "mimetype": "text/x-python",
   "name": "python",
   "nbconvert_exporter": "python",
   "pygments_lexer": "ipython3",
   "version": "3.8.5"
  }
 },
 "nbformat": 4,
 "nbformat_minor": 4
}
